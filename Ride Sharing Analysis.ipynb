{
 "cells": [
  {
   "cell_type": "code",
   "execution_count": 1,
   "id": "1e1d94d9",
   "metadata": {},
   "outputs": [],
   "source": [
    "import pandas as pd\n",
    "pd.set_option('mode.chained_assignment', None)\n",
    "import numpy as py\n",
    "import matplotlib.pyplot as plt\n",
    "import seaborn as sns"
   ]
  },
  {
   "cell_type": "code",
   "execution_count": 2,
   "id": "dc973095",
   "metadata": {},
   "outputs": [],
   "source": [
    "## csv = https://raw.githubusercontent.com/vkoul/data/main/misc/ride_data.csv"
   ]
  },
  {
   "cell_type": "code",
   "execution_count": 3,
   "id": "7bcfd9b3",
   "metadata": {},
   "outputs": [],
   "source": [
    "df = pd.read_csv('https://raw.githubusercontent.com/vkoul/data/main/misc/ride_data.csv', parse_dates=['Request timestamp', 'Drop timestamp'])\n",
    "#Parse date whilst reading data\n",
    "#Default is US month first.  Day fist can be acheived by adding ,dayfirst = True"
   ]
  },
  {
   "cell_type": "code",
   "execution_count": 4,
   "id": "19272cbc",
   "metadata": {},
   "outputs": [
    {
     "data": {
      "text/html": [
       "<div>\n",
       "<style scoped>\n",
       "    .dataframe tbody tr th:only-of-type {\n",
       "        vertical-align: middle;\n",
       "    }\n",
       "\n",
       "    .dataframe tbody tr th {\n",
       "        vertical-align: top;\n",
       "    }\n",
       "\n",
       "    .dataframe thead th {\n",
       "        text-align: right;\n",
       "    }\n",
       "</style>\n",
       "<table border=\"1\" class=\"dataframe\">\n",
       "  <thead>\n",
       "    <tr style=\"text-align: right;\">\n",
       "      <th></th>\n",
       "      <th>Request id</th>\n",
       "      <th>Pickup point</th>\n",
       "      <th>Driver id</th>\n",
       "      <th>Status</th>\n",
       "      <th>Request timestamp</th>\n",
       "      <th>Drop timestamp</th>\n",
       "    </tr>\n",
       "  </thead>\n",
       "  <tbody>\n",
       "    <tr>\n",
       "      <th>0</th>\n",
       "      <td>1</td>\n",
       "      <td>Airport</td>\n",
       "      <td>285.0</td>\n",
       "      <td>Trip Completed</td>\n",
       "      <td>2016-11-07 00:20:00</td>\n",
       "      <td>2016-11-07 00:51:00</td>\n",
       "    </tr>\n",
       "    <tr>\n",
       "      <th>1</th>\n",
       "      <td>2</td>\n",
       "      <td>Airport</td>\n",
       "      <td>NaN</td>\n",
       "      <td>No Cars Available</td>\n",
       "      <td>2016-11-07 00:23:00</td>\n",
       "      <td>NaT</td>\n",
       "    </tr>\n",
       "    <tr>\n",
       "      <th>2</th>\n",
       "      <td>3</td>\n",
       "      <td>Airport</td>\n",
       "      <td>80.0</td>\n",
       "      <td>Trip Completed</td>\n",
       "      <td>2016-11-07 00:24:00</td>\n",
       "      <td>2016-11-07 01:31:00</td>\n",
       "    </tr>\n",
       "    <tr>\n",
       "      <th>3</th>\n",
       "      <td>4</td>\n",
       "      <td>City</td>\n",
       "      <td>NaN</td>\n",
       "      <td>No Cars Available</td>\n",
       "      <td>2016-11-07 00:37:00</td>\n",
       "      <td>NaT</td>\n",
       "    </tr>\n",
       "    <tr>\n",
       "      <th>4</th>\n",
       "      <td>5</td>\n",
       "      <td>Airport</td>\n",
       "      <td>264.0</td>\n",
       "      <td>Trip Completed</td>\n",
       "      <td>2016-11-07 00:36:00</td>\n",
       "      <td>2016-11-07 01:35:00</td>\n",
       "    </tr>\n",
       "  </tbody>\n",
       "</table>\n",
       "</div>"
      ],
      "text/plain": [
       "   Request id Pickup point  Driver id             Status   Request timestamp  \\\n",
       "0           1      Airport      285.0     Trip Completed 2016-11-07 00:20:00   \n",
       "1           2      Airport        NaN  No Cars Available 2016-11-07 00:23:00   \n",
       "2           3      Airport       80.0     Trip Completed 2016-11-07 00:24:00   \n",
       "3           4         City        NaN  No Cars Available 2016-11-07 00:37:00   \n",
       "4           5      Airport      264.0     Trip Completed 2016-11-07 00:36:00   \n",
       "\n",
       "       Drop timestamp  \n",
       "0 2016-11-07 00:51:00  \n",
       "1                 NaT  \n",
       "2 2016-11-07 01:31:00  \n",
       "3                 NaT  \n",
       "4 2016-11-07 01:35:00  "
      ]
     },
     "execution_count": 4,
     "metadata": {},
     "output_type": "execute_result"
    }
   ],
   "source": [
    "df.head()"
   ]
  },
  {
   "cell_type": "code",
   "execution_count": null,
   "id": "d8263b13",
   "metadata": {},
   "outputs": [],
   "source": [
    "df.info()"
   ]
  },
  {
   "cell_type": "markdown",
   "id": "ce81e852",
   "metadata": {},
   "source": [
    "## Check for missing values"
   ]
  },
  {
   "cell_type": "code",
   "execution_count": 6,
   "id": "ef5cfddc",
   "metadata": {},
   "outputs": [
    {
     "data": {
      "text/plain": [
       "Request id              0\n",
       "Pickup point            0\n",
       "Driver id            2650\n",
       "Status                  0\n",
       "Request timestamp       0\n",
       "Drop timestamp       3914\n",
       "dtype: int64"
      ]
     },
     "execution_count": 6,
     "metadata": {},
     "output_type": "execute_result"
    }
   ],
   "source": [
    "df.isna().sum()  #how many missing values"
   ]
  },
  {
   "cell_type": "code",
   "execution_count": 7,
   "id": "7f5a00a9",
   "metadata": {},
   "outputs": [
    {
     "data": {
      "text/plain": [
       "Request id            0.000000\n",
       "Pickup point          0.000000\n",
       "Driver id            39.288362\n",
       "Status                0.000000\n",
       "Request timestamp     0.000000\n",
       "Drop timestamp       58.028169\n",
       "dtype: float64"
      ]
     },
     "execution_count": 7,
     "metadata": {},
     "output_type": "execute_result"
    }
   ],
   "source": [
    "#percentage of missing values\n",
    "df.isna().sum()/df.shape[0]*100"
   ]
  },
  {
   "cell_type": "code",
   "execution_count": 8,
   "id": "5bd087fb",
   "metadata": {},
   "outputs": [
    {
     "data": {
      "text/plain": [
       "Request id            0.000000\n",
       "Pickup point          0.000000\n",
       "Driver id            39.288362\n",
       "Status                0.000000\n",
       "Request timestamp     0.000000\n",
       "Drop timestamp       58.028169\n",
       "dtype: float64"
      ]
     },
     "execution_count": 8,
     "metadata": {},
     "output_type": "execute_result"
    }
   ],
   "source": [
    "#or\n",
    "df.isna().mean()*100"
   ]
  },
  {
   "cell_type": "code",
   "execution_count": 9,
   "id": "220986b5",
   "metadata": {},
   "outputs": [
    {
     "data": {
      "text/plain": [
       "0"
      ]
     },
     "execution_count": 9,
     "metadata": {},
     "output_type": "execute_result"
    }
   ],
   "source": [
    "#check for duplicates\n",
    "df.duplicated().sum()"
   ]
  },
  {
   "cell_type": "code",
   "execution_count": 10,
   "id": "08b3c26d",
   "metadata": {},
   "outputs": [
    {
     "data": {
      "text/plain": [
       "Index(['Request id', 'Pickup point', 'Driver id', 'Status',\n",
       "       'Request timestamp', 'Drop timestamp'],\n",
       "      dtype='object')"
      ]
     },
     "execution_count": 10,
     "metadata": {},
     "output_type": "execute_result"
    }
   ],
   "source": [
    "#Clean data\n",
    "df.columns  #get column headers"
   ]
  },
  {
   "cell_type": "code",
   "execution_count": 11,
   "id": "240e731a",
   "metadata": {},
   "outputs": [
    {
     "data": {
      "text/plain": [
       "Index(['request id', 'pickup point', 'driver id', 'status',\n",
       "       'request timestamp', 'drop timestamp'],\n",
       "      dtype='object')"
      ]
     },
     "execution_count": 11,
     "metadata": {},
     "output_type": "execute_result"
    }
   ],
   "source": [
    "df.columns.str.lower()  #covert to lower case"
   ]
  },
  {
   "cell_type": "code",
   "execution_count": 12,
   "id": "139b40eb",
   "metadata": {},
   "outputs": [
    {
     "data": {
      "text/plain": [
       "Index(['Request_id', 'Pickup_point', 'Driver_id', 'Status',\n",
       "       'Request_timestamp', 'Drop_timestamp'],\n",
       "      dtype='object')"
      ]
     },
     "execution_count": 12,
     "metadata": {},
     "output_type": "execute_result"
    }
   ],
   "source": [
    "df.columns.str.replace(\" \",\"_\")  #replace space with _"
   ]
  },
  {
   "cell_type": "code",
   "execution_count": 13,
   "id": "df21eb81",
   "metadata": {},
   "outputs": [
    {
     "data": {
      "text/plain": [
       "Index(['Request id', 'Pickup point', 'Driver id', 'Status',\n",
       "       'Request timestamp', 'Drop timestamp'],\n",
       "      dtype='object')"
      ]
     },
     "execution_count": 13,
     "metadata": {},
     "output_type": "execute_result"
    }
   ],
   "source": [
    "df.columns"
   ]
  },
  {
   "cell_type": "code",
   "execution_count": 14,
   "id": "82613295",
   "metadata": {},
   "outputs": [
    {
     "data": {
      "text/html": [
       "<div>\n",
       "<style scoped>\n",
       "    .dataframe tbody tr th:only-of-type {\n",
       "        vertical-align: middle;\n",
       "    }\n",
       "\n",
       "    .dataframe tbody tr th {\n",
       "        vertical-align: top;\n",
       "    }\n",
       "\n",
       "    .dataframe thead th {\n",
       "        text-align: right;\n",
       "    }\n",
       "</style>\n",
       "<table border=\"1\" class=\"dataframe\">\n",
       "  <thead>\n",
       "    <tr style=\"text-align: right;\">\n",
       "      <th></th>\n",
       "      <th>Request id</th>\n",
       "      <th>Pickup point</th>\n",
       "      <th>Driver id</th>\n",
       "      <th>Status</th>\n",
       "      <th>Request timestamp</th>\n",
       "      <th>Drop timestamp</th>\n",
       "    </tr>\n",
       "  </thead>\n",
       "  <tbody>\n",
       "    <tr>\n",
       "      <th>0</th>\n",
       "      <td>1</td>\n",
       "      <td>Airport</td>\n",
       "      <td>285.0</td>\n",
       "      <td>Trip Completed</td>\n",
       "      <td>2016-11-07 00:20:00</td>\n",
       "      <td>2016-11-07 00:51:00</td>\n",
       "    </tr>\n",
       "    <tr>\n",
       "      <th>1</th>\n",
       "      <td>2</td>\n",
       "      <td>Airport</td>\n",
       "      <td>NaN</td>\n",
       "      <td>No Cars Available</td>\n",
       "      <td>2016-11-07 00:23:00</td>\n",
       "      <td>NaT</td>\n",
       "    </tr>\n",
       "  </tbody>\n",
       "</table>\n",
       "</div>"
      ],
      "text/plain": [
       "   Request id Pickup point  Driver id             Status   Request timestamp  \\\n",
       "0           1      Airport      285.0     Trip Completed 2016-11-07 00:20:00   \n",
       "1           2      Airport        NaN  No Cars Available 2016-11-07 00:23:00   \n",
       "\n",
       "       Drop timestamp  \n",
       "0 2016-11-07 00:51:00  \n",
       "1                 NaT  "
      ]
     },
     "execution_count": 14,
     "metadata": {},
     "output_type": "execute_result"
    }
   ],
   "source": [
    "df.head(2)  #check on data"
   ]
  },
  {
   "cell_type": "markdown",
   "id": "da72d286",
   "metadata": {},
   "source": [
    "## Approaches"
   ]
  },
  {
   "cell_type": "code",
   "execution_count": 15,
   "id": "1b0f3ad9",
   "metadata": {},
   "outputs": [],
   "source": [
    "#any association between time and cancellation\n",
    "#Driver ID and cancellation - are there any problematic drivers?\n",
    "#Problematic location and time?\n",
    "#Problematic driver?\n",
    "#why so many NAs in the droptime? - confirm whether NAs are due to incompleted trips\n",
    "#Availablility of drivers in slots/ peak hours\n",
    "#calculate the length of the journey based on time\n",
    "#number of trips per driver per day - are some doing more than others? - distribution of spread\n",
    "#divide the day into hour slots and see the pattern- if most flights are arriving am, need more drivers available at airport\n",
    "#length of trips per driver\n",
    "\n",
    "#extract relevant info from time stamps - hour, month, etc\n",
    "#assuming it's an instant request not pre bookings - if interview question, could ask clarifying questions"
   ]
  },
  {
   "cell_type": "markdown",
   "id": "a23ac823",
   "metadata": {},
   "source": [
    " # Extract relevant ino from timestamp columns"
   ]
  },
  {
   "cell_type": "code",
   "execution_count": 16,
   "id": "8bda5f6a",
   "metadata": {},
   "outputs": [],
   "source": [
    "df['request_year'] = df['Request timestamp'].dt.year  #dt is the date time function"
   ]
  },
  {
   "cell_type": "code",
   "execution_count": 17,
   "id": "b3e17c9a",
   "metadata": {},
   "outputs": [],
   "source": [
    "df['request_month'] = df['Request timestamp'].dt.month    #type_name() at the end to give month names"
   ]
  },
  {
   "cell_type": "code",
   "execution_count": 18,
   "id": "c038cb78",
   "metadata": {},
   "outputs": [],
   "source": [
    "df['request_hour'] = df['Request timestamp'].dt.hour  #0 hour is midnight"
   ]
  },
  {
   "cell_type": "code",
   "execution_count": 19,
   "id": "c940f283",
   "metadata": {},
   "outputs": [
    {
     "data": {
      "text/html": [
       "<div>\n",
       "<style scoped>\n",
       "    .dataframe tbody tr th:only-of-type {\n",
       "        vertical-align: middle;\n",
       "    }\n",
       "\n",
       "    .dataframe tbody tr th {\n",
       "        vertical-align: top;\n",
       "    }\n",
       "\n",
       "    .dataframe thead th {\n",
       "        text-align: right;\n",
       "    }\n",
       "</style>\n",
       "<table border=\"1\" class=\"dataframe\">\n",
       "  <thead>\n",
       "    <tr style=\"text-align: right;\">\n",
       "      <th></th>\n",
       "      <th>Request id</th>\n",
       "      <th>Pickup point</th>\n",
       "      <th>Driver id</th>\n",
       "      <th>Status</th>\n",
       "      <th>Request timestamp</th>\n",
       "      <th>Drop timestamp</th>\n",
       "      <th>request_year</th>\n",
       "      <th>request_month</th>\n",
       "      <th>request_hour</th>\n",
       "    </tr>\n",
       "  </thead>\n",
       "  <tbody>\n",
       "    <tr>\n",
       "      <th>6743</th>\n",
       "      <td>6765</td>\n",
       "      <td>Airport</td>\n",
       "      <td>NaN</td>\n",
       "      <td>No Cars Available</td>\n",
       "      <td>2016-07-15 00:09:00</td>\n",
       "      <td>NaT</td>\n",
       "      <td>2016</td>\n",
       "      <td>7</td>\n",
       "      <td>0</td>\n",
       "    </tr>\n",
       "    <tr>\n",
       "      <th>6744</th>\n",
       "      <td>6766</td>\n",
       "      <td>City</td>\n",
       "      <td>108.0</td>\n",
       "      <td>Trip Completed</td>\n",
       "      <td>2016-07-15 00:06:00</td>\n",
       "      <td>2016-07-15 01:10:00</td>\n",
       "      <td>2016</td>\n",
       "      <td>7</td>\n",
       "      <td>0</td>\n",
       "    </tr>\n",
       "  </tbody>\n",
       "</table>\n",
       "</div>"
      ],
      "text/plain": [
       "      Request id Pickup point  Driver id             Status  \\\n",
       "6743        6765      Airport        NaN  No Cars Available   \n",
       "6744        6766         City      108.0     Trip Completed   \n",
       "\n",
       "       Request timestamp      Drop timestamp  request_year  request_month  \\\n",
       "6743 2016-07-15 00:09:00                 NaT          2016              7   \n",
       "6744 2016-07-15 00:06:00 2016-07-15 01:10:00          2016              7   \n",
       "\n",
       "      request_hour  \n",
       "6743             0  \n",
       "6744             0  "
      ]
     },
     "execution_count": 19,
     "metadata": {},
     "output_type": "execute_result"
    }
   ],
   "source": [
    "df.tail(2)  #check last 2 columns"
   ]
  },
  {
   "cell_type": "code",
   "execution_count": 20,
   "id": "519ecc4f",
   "metadata": {},
   "outputs": [],
   "source": [
    "#do the same above for drop timestamp\n",
    "df['drop_year'] = df['Drop timestamp'].dt.year"
   ]
  },
  {
   "cell_type": "code",
   "execution_count": 21,
   "id": "025b3f91",
   "metadata": {},
   "outputs": [
    {
     "data": {
      "text/html": [
       "<div>\n",
       "<style scoped>\n",
       "    .dataframe tbody tr th:only-of-type {\n",
       "        vertical-align: middle;\n",
       "    }\n",
       "\n",
       "    .dataframe tbody tr th {\n",
       "        vertical-align: top;\n",
       "    }\n",
       "\n",
       "    .dataframe thead th {\n",
       "        text-align: right;\n",
       "    }\n",
       "</style>\n",
       "<table border=\"1\" class=\"dataframe\">\n",
       "  <thead>\n",
       "    <tr style=\"text-align: right;\">\n",
       "      <th></th>\n",
       "      <th>Request id</th>\n",
       "      <th>Pickup point</th>\n",
       "      <th>Driver id</th>\n",
       "      <th>Status</th>\n",
       "      <th>Request timestamp</th>\n",
       "      <th>Drop timestamp</th>\n",
       "      <th>request_year</th>\n",
       "      <th>request_month</th>\n",
       "      <th>request_hour</th>\n",
       "      <th>drop_year</th>\n",
       "    </tr>\n",
       "  </thead>\n",
       "  <tbody>\n",
       "    <tr>\n",
       "      <th>0</th>\n",
       "      <td>1</td>\n",
       "      <td>Airport</td>\n",
       "      <td>285.0</td>\n",
       "      <td>Trip Completed</td>\n",
       "      <td>2016-11-07 00:20:00</td>\n",
       "      <td>2016-11-07 00:51:00</td>\n",
       "      <td>2016</td>\n",
       "      <td>11</td>\n",
       "      <td>0</td>\n",
       "      <td>2016.0</td>\n",
       "    </tr>\n",
       "    <tr>\n",
       "      <th>1</th>\n",
       "      <td>2</td>\n",
       "      <td>Airport</td>\n",
       "      <td>NaN</td>\n",
       "      <td>No Cars Available</td>\n",
       "      <td>2016-11-07 00:23:00</td>\n",
       "      <td>NaT</td>\n",
       "      <td>2016</td>\n",
       "      <td>11</td>\n",
       "      <td>0</td>\n",
       "      <td>NaN</td>\n",
       "    </tr>\n",
       "  </tbody>\n",
       "</table>\n",
       "</div>"
      ],
      "text/plain": [
       "   Request id Pickup point  Driver id             Status   Request timestamp  \\\n",
       "0           1      Airport      285.0     Trip Completed 2016-11-07 00:20:00   \n",
       "1           2      Airport        NaN  No Cars Available 2016-11-07 00:23:00   \n",
       "\n",
       "       Drop timestamp  request_year  request_month  request_hour  drop_year  \n",
       "0 2016-11-07 00:51:00          2016             11             0     2016.0  \n",
       "1                 NaT          2016             11             0        NaN  "
      ]
     },
     "execution_count": 21,
     "metadata": {},
     "output_type": "execute_result"
    }
   ],
   "source": [
    "df.head(2)"
   ]
  },
  {
   "cell_type": "code",
   "execution_count": 22,
   "id": "bafa336c",
   "metadata": {},
   "outputs": [],
   "source": [
    "df['drop_day'] = df['Drop timestamp'].dt.day_name()  #gives day of week"
   ]
  },
  {
   "cell_type": "code",
   "execution_count": 23,
   "id": "986609d0",
   "metadata": {},
   "outputs": [
    {
     "data": {
      "text/html": [
       "<div>\n",
       "<style scoped>\n",
       "    .dataframe tbody tr th:only-of-type {\n",
       "        vertical-align: middle;\n",
       "    }\n",
       "\n",
       "    .dataframe tbody tr th {\n",
       "        vertical-align: top;\n",
       "    }\n",
       "\n",
       "    .dataframe thead th {\n",
       "        text-align: right;\n",
       "    }\n",
       "</style>\n",
       "<table border=\"1\" class=\"dataframe\">\n",
       "  <thead>\n",
       "    <tr style=\"text-align: right;\">\n",
       "      <th></th>\n",
       "      <th>Request id</th>\n",
       "      <th>Pickup point</th>\n",
       "      <th>Driver id</th>\n",
       "      <th>Status</th>\n",
       "      <th>Request timestamp</th>\n",
       "      <th>Drop timestamp</th>\n",
       "      <th>request_year</th>\n",
       "      <th>request_month</th>\n",
       "      <th>request_hour</th>\n",
       "      <th>drop_year</th>\n",
       "      <th>drop_day</th>\n",
       "    </tr>\n",
       "  </thead>\n",
       "  <tbody>\n",
       "    <tr>\n",
       "      <th>0</th>\n",
       "      <td>1</td>\n",
       "      <td>Airport</td>\n",
       "      <td>285.0</td>\n",
       "      <td>Trip Completed</td>\n",
       "      <td>2016-11-07 00:20:00</td>\n",
       "      <td>2016-11-07 00:51:00</td>\n",
       "      <td>2016</td>\n",
       "      <td>11</td>\n",
       "      <td>0</td>\n",
       "      <td>2016.0</td>\n",
       "      <td>Monday</td>\n",
       "    </tr>\n",
       "    <tr>\n",
       "      <th>1</th>\n",
       "      <td>2</td>\n",
       "      <td>Airport</td>\n",
       "      <td>NaN</td>\n",
       "      <td>No Cars Available</td>\n",
       "      <td>2016-11-07 00:23:00</td>\n",
       "      <td>NaT</td>\n",
       "      <td>2016</td>\n",
       "      <td>11</td>\n",
       "      <td>0</td>\n",
       "      <td>NaN</td>\n",
       "      <td>NaN</td>\n",
       "    </tr>\n",
       "  </tbody>\n",
       "</table>\n",
       "</div>"
      ],
      "text/plain": [
       "   Request id Pickup point  Driver id             Status   Request timestamp  \\\n",
       "0           1      Airport      285.0     Trip Completed 2016-11-07 00:20:00   \n",
       "1           2      Airport        NaN  No Cars Available 2016-11-07 00:23:00   \n",
       "\n",
       "       Drop timestamp  request_year  request_month  request_hour  drop_year  \\\n",
       "0 2016-11-07 00:51:00          2016             11             0     2016.0   \n",
       "1                 NaT          2016             11             0        NaN   \n",
       "\n",
       "  drop_day  \n",
       "0   Monday  \n",
       "1      NaN  "
      ]
     },
     "execution_count": 23,
     "metadata": {},
     "output_type": "execute_result"
    }
   ],
   "source": [
    "df.head(2)"
   ]
  },
  {
   "cell_type": "markdown",
   "id": "cbd5e204",
   "metadata": {},
   "source": [
    "## calculate trip time"
   ]
  },
  {
   "cell_type": "code",
   "execution_count": 24,
   "id": "082ba6bf",
   "metadata": {},
   "outputs": [],
   "source": [
    "df['timestamp'] = df['Drop timestamp'] - df['Request timestamp']"
   ]
  },
  {
   "cell_type": "code",
   "execution_count": 25,
   "id": "78d4cf5e",
   "metadata": {},
   "outputs": [
    {
     "data": {
      "text/html": [
       "<div>\n",
       "<style scoped>\n",
       "    .dataframe tbody tr th:only-of-type {\n",
       "        vertical-align: middle;\n",
       "    }\n",
       "\n",
       "    .dataframe tbody tr th {\n",
       "        vertical-align: top;\n",
       "    }\n",
       "\n",
       "    .dataframe thead th {\n",
       "        text-align: right;\n",
       "    }\n",
       "</style>\n",
       "<table border=\"1\" class=\"dataframe\">\n",
       "  <thead>\n",
       "    <tr style=\"text-align: right;\">\n",
       "      <th></th>\n",
       "      <th>Request id</th>\n",
       "      <th>Pickup point</th>\n",
       "      <th>Driver id</th>\n",
       "      <th>Status</th>\n",
       "      <th>Request timestamp</th>\n",
       "      <th>Drop timestamp</th>\n",
       "      <th>request_year</th>\n",
       "      <th>request_month</th>\n",
       "      <th>request_hour</th>\n",
       "      <th>drop_year</th>\n",
       "      <th>drop_day</th>\n",
       "      <th>timestamp</th>\n",
       "    </tr>\n",
       "  </thead>\n",
       "  <tbody>\n",
       "    <tr>\n",
       "      <th>0</th>\n",
       "      <td>1</td>\n",
       "      <td>Airport</td>\n",
       "      <td>285.0</td>\n",
       "      <td>Trip Completed</td>\n",
       "      <td>2016-11-07 00:20:00</td>\n",
       "      <td>2016-11-07 00:51:00</td>\n",
       "      <td>2016</td>\n",
       "      <td>11</td>\n",
       "      <td>0</td>\n",
       "      <td>2016.0</td>\n",
       "      <td>Monday</td>\n",
       "      <td>0 days 00:31:00</td>\n",
       "    </tr>\n",
       "    <tr>\n",
       "      <th>1</th>\n",
       "      <td>2</td>\n",
       "      <td>Airport</td>\n",
       "      <td>NaN</td>\n",
       "      <td>No Cars Available</td>\n",
       "      <td>2016-11-07 00:23:00</td>\n",
       "      <td>NaT</td>\n",
       "      <td>2016</td>\n",
       "      <td>11</td>\n",
       "      <td>0</td>\n",
       "      <td>NaN</td>\n",
       "      <td>NaN</td>\n",
       "      <td>NaT</td>\n",
       "    </tr>\n",
       "    <tr>\n",
       "      <th>2</th>\n",
       "      <td>3</td>\n",
       "      <td>Airport</td>\n",
       "      <td>80.0</td>\n",
       "      <td>Trip Completed</td>\n",
       "      <td>2016-11-07 00:24:00</td>\n",
       "      <td>2016-11-07 01:31:00</td>\n",
       "      <td>2016</td>\n",
       "      <td>11</td>\n",
       "      <td>0</td>\n",
       "      <td>2016.0</td>\n",
       "      <td>Monday</td>\n",
       "      <td>0 days 01:07:00</td>\n",
       "    </tr>\n",
       "    <tr>\n",
       "      <th>3</th>\n",
       "      <td>4</td>\n",
       "      <td>City</td>\n",
       "      <td>NaN</td>\n",
       "      <td>No Cars Available</td>\n",
       "      <td>2016-11-07 00:37:00</td>\n",
       "      <td>NaT</td>\n",
       "      <td>2016</td>\n",
       "      <td>11</td>\n",
       "      <td>0</td>\n",
       "      <td>NaN</td>\n",
       "      <td>NaN</td>\n",
       "      <td>NaT</td>\n",
       "    </tr>\n",
       "    <tr>\n",
       "      <th>4</th>\n",
       "      <td>5</td>\n",
       "      <td>Airport</td>\n",
       "      <td>264.0</td>\n",
       "      <td>Trip Completed</td>\n",
       "      <td>2016-11-07 00:36:00</td>\n",
       "      <td>2016-11-07 01:35:00</td>\n",
       "      <td>2016</td>\n",
       "      <td>11</td>\n",
       "      <td>0</td>\n",
       "      <td>2016.0</td>\n",
       "      <td>Monday</td>\n",
       "      <td>0 days 00:59:00</td>\n",
       "    </tr>\n",
       "    <tr>\n",
       "      <th>5</th>\n",
       "      <td>6</td>\n",
       "      <td>City</td>\n",
       "      <td>NaN</td>\n",
       "      <td>No Cars Available</td>\n",
       "      <td>2016-11-07 00:36:00</td>\n",
       "      <td>NaT</td>\n",
       "      <td>2016</td>\n",
       "      <td>11</td>\n",
       "      <td>0</td>\n",
       "      <td>NaN</td>\n",
       "      <td>NaN</td>\n",
       "      <td>NaT</td>\n",
       "    </tr>\n",
       "    <tr>\n",
       "      <th>6</th>\n",
       "      <td>7</td>\n",
       "      <td>Airport</td>\n",
       "      <td>NaN</td>\n",
       "      <td>No Cars Available</td>\n",
       "      <td>2016-11-07 00:30:00</td>\n",
       "      <td>NaT</td>\n",
       "      <td>2016</td>\n",
       "      <td>11</td>\n",
       "      <td>0</td>\n",
       "      <td>NaN</td>\n",
       "      <td>NaN</td>\n",
       "      <td>NaT</td>\n",
       "    </tr>\n",
       "    <tr>\n",
       "      <th>7</th>\n",
       "      <td>8</td>\n",
       "      <td>City</td>\n",
       "      <td>NaN</td>\n",
       "      <td>No Cars Available</td>\n",
       "      <td>2016-11-07 00:40:00</td>\n",
       "      <td>NaT</td>\n",
       "      <td>2016</td>\n",
       "      <td>11</td>\n",
       "      <td>0</td>\n",
       "      <td>NaN</td>\n",
       "      <td>NaN</td>\n",
       "      <td>NaT</td>\n",
       "    </tr>\n",
       "    <tr>\n",
       "      <th>8</th>\n",
       "      <td>9</td>\n",
       "      <td>Airport</td>\n",
       "      <td>235.0</td>\n",
       "      <td>Trip Completed</td>\n",
       "      <td>2016-11-07 00:45:00</td>\n",
       "      <td>2016-11-07 02:00:00</td>\n",
       "      <td>2016</td>\n",
       "      <td>11</td>\n",
       "      <td>0</td>\n",
       "      <td>2016.0</td>\n",
       "      <td>Monday</td>\n",
       "      <td>0 days 01:15:00</td>\n",
       "    </tr>\n",
       "    <tr>\n",
       "      <th>9</th>\n",
       "      <td>10</td>\n",
       "      <td>City</td>\n",
       "      <td>228.0</td>\n",
       "      <td>Trip Completed</td>\n",
       "      <td>2016-11-07 00:54:00</td>\n",
       "      <td>2016-11-07 01:59:00</td>\n",
       "      <td>2016</td>\n",
       "      <td>11</td>\n",
       "      <td>0</td>\n",
       "      <td>2016.0</td>\n",
       "      <td>Monday</td>\n",
       "      <td>0 days 01:05:00</td>\n",
       "    </tr>\n",
       "  </tbody>\n",
       "</table>\n",
       "</div>"
      ],
      "text/plain": [
       "   Request id Pickup point  Driver id             Status   Request timestamp  \\\n",
       "0           1      Airport      285.0     Trip Completed 2016-11-07 00:20:00   \n",
       "1           2      Airport        NaN  No Cars Available 2016-11-07 00:23:00   \n",
       "2           3      Airport       80.0     Trip Completed 2016-11-07 00:24:00   \n",
       "3           4         City        NaN  No Cars Available 2016-11-07 00:37:00   \n",
       "4           5      Airport      264.0     Trip Completed 2016-11-07 00:36:00   \n",
       "5           6         City        NaN  No Cars Available 2016-11-07 00:36:00   \n",
       "6           7      Airport        NaN  No Cars Available 2016-11-07 00:30:00   \n",
       "7           8         City        NaN  No Cars Available 2016-11-07 00:40:00   \n",
       "8           9      Airport      235.0     Trip Completed 2016-11-07 00:45:00   \n",
       "9          10         City      228.0     Trip Completed 2016-11-07 00:54:00   \n",
       "\n",
       "       Drop timestamp  request_year  request_month  request_hour  drop_year  \\\n",
       "0 2016-11-07 00:51:00          2016             11             0     2016.0   \n",
       "1                 NaT          2016             11             0        NaN   \n",
       "2 2016-11-07 01:31:00          2016             11             0     2016.0   \n",
       "3                 NaT          2016             11             0        NaN   \n",
       "4 2016-11-07 01:35:00          2016             11             0     2016.0   \n",
       "5                 NaT          2016             11             0        NaN   \n",
       "6                 NaT          2016             11             0        NaN   \n",
       "7                 NaT          2016             11             0        NaN   \n",
       "8 2016-11-07 02:00:00          2016             11             0     2016.0   \n",
       "9 2016-11-07 01:59:00          2016             11             0     2016.0   \n",
       "\n",
       "  drop_day       timestamp  \n",
       "0   Monday 0 days 00:31:00  \n",
       "1      NaN             NaT  \n",
       "2   Monday 0 days 01:07:00  \n",
       "3      NaN             NaT  \n",
       "4   Monday 0 days 00:59:00  \n",
       "5      NaN             NaT  \n",
       "6      NaN             NaT  \n",
       "7      NaN             NaT  \n",
       "8   Monday 0 days 01:15:00  \n",
       "9   Monday 0 days 01:05:00  "
      ]
     },
     "execution_count": 25,
     "metadata": {},
     "output_type": "execute_result"
    }
   ],
   "source": [
    "df.head(10)"
   ]
  },
  {
   "cell_type": "code",
   "execution_count": null,
   "id": "243a3434",
   "metadata": {},
   "outputs": [],
   "source": [
    "df.info()"
   ]
  },
  {
   "cell_type": "markdown",
   "id": "875ad3e3",
   "metadata": {},
   "source": [
    "## EDA = Univariate Analysis - when you focus on one column at a time.  Bivariate is when you start to compare columns"
   ]
  },
  {
   "cell_type": "code",
   "execution_count": 27,
   "id": "d75492ba",
   "metadata": {},
   "outputs": [
    {
     "data": {
      "text/html": [
       "<div>\n",
       "<style scoped>\n",
       "    .dataframe tbody tr th:only-of-type {\n",
       "        vertical-align: middle;\n",
       "    }\n",
       "\n",
       "    .dataframe tbody tr th {\n",
       "        vertical-align: top;\n",
       "    }\n",
       "\n",
       "    .dataframe thead th {\n",
       "        text-align: right;\n",
       "    }\n",
       "</style>\n",
       "<table border=\"1\" class=\"dataframe\">\n",
       "  <thead>\n",
       "    <tr style=\"text-align: right;\">\n",
       "      <th></th>\n",
       "      <th>Request id</th>\n",
       "      <th>Driver id</th>\n",
       "      <th>request_year</th>\n",
       "      <th>request_month</th>\n",
       "      <th>request_hour</th>\n",
       "      <th>drop_year</th>\n",
       "      <th>timestamp</th>\n",
       "    </tr>\n",
       "  </thead>\n",
       "  <tbody>\n",
       "    <tr>\n",
       "      <th>count</th>\n",
       "      <td>6745.000000</td>\n",
       "      <td>4095.000000</td>\n",
       "      <td>6745.0</td>\n",
       "      <td>6745.000000</td>\n",
       "      <td>6745.000000</td>\n",
       "      <td>2831.0</td>\n",
       "      <td>2831</td>\n",
       "    </tr>\n",
       "    <tr>\n",
       "      <th>mean</th>\n",
       "      <td>3384.644922</td>\n",
       "      <td>149.501343</td>\n",
       "      <td>2016.0</td>\n",
       "      <td>8.779540</td>\n",
       "      <td>12.956709</td>\n",
       "      <td>2016.0</td>\n",
       "      <td>-1 days +13:14:01.759095726</td>\n",
       "    </tr>\n",
       "    <tr>\n",
       "      <th>std</th>\n",
       "      <td>1955.099667</td>\n",
       "      <td>86.051994</td>\n",
       "      <td>0.0</td>\n",
       "      <td>2.218331</td>\n",
       "      <td>6.504052</td>\n",
       "      <td>0.0</td>\n",
       "      <td>10 days 07:07:53.473784496</td>\n",
       "    </tr>\n",
       "    <tr>\n",
       "      <th>min</th>\n",
       "      <td>1.000000</td>\n",
       "      <td>1.000000</td>\n",
       "      <td>2016.0</td>\n",
       "      <td>7.000000</td>\n",
       "      <td>0.000000</td>\n",
       "      <td>2016.0</td>\n",
       "      <td>-148 days +00:33:00</td>\n",
       "    </tr>\n",
       "    <tr>\n",
       "      <th>25%</th>\n",
       "      <td>1691.000000</td>\n",
       "      <td>75.000000</td>\n",
       "      <td>2016.0</td>\n",
       "      <td>7.000000</td>\n",
       "      <td>7.000000</td>\n",
       "      <td>2016.0</td>\n",
       "      <td>0 days 00:41:00</td>\n",
       "    </tr>\n",
       "    <tr>\n",
       "      <th>50%</th>\n",
       "      <td>3387.000000</td>\n",
       "      <td>149.000000</td>\n",
       "      <td>2016.0</td>\n",
       "      <td>7.000000</td>\n",
       "      <td>13.000000</td>\n",
       "      <td>2016.0</td>\n",
       "      <td>0 days 00:52:00</td>\n",
       "    </tr>\n",
       "    <tr>\n",
       "      <th>75%</th>\n",
       "      <td>5080.000000</td>\n",
       "      <td>224.000000</td>\n",
       "      <td>2016.0</td>\n",
       "      <td>11.000000</td>\n",
       "      <td>19.000000</td>\n",
       "      <td>2016.0</td>\n",
       "      <td>0 days 01:04:00</td>\n",
       "    </tr>\n",
       "    <tr>\n",
       "      <th>max</th>\n",
       "      <td>6766.000000</td>\n",
       "      <td>300.000000</td>\n",
       "      <td>2016.0</td>\n",
       "      <td>12.000000</td>\n",
       "      <td>23.000000</td>\n",
       "      <td>2016.0</td>\n",
       "      <td>29 days 01:15:00</td>\n",
       "    </tr>\n",
       "  </tbody>\n",
       "</table>\n",
       "</div>"
      ],
      "text/plain": [
       "        Request id    Driver id  request_year  request_month  request_hour  \\\n",
       "count  6745.000000  4095.000000        6745.0    6745.000000   6745.000000   \n",
       "mean   3384.644922   149.501343        2016.0       8.779540     12.956709   \n",
       "std    1955.099667    86.051994           0.0       2.218331      6.504052   \n",
       "min       1.000000     1.000000        2016.0       7.000000      0.000000   \n",
       "25%    1691.000000    75.000000        2016.0       7.000000      7.000000   \n",
       "50%    3387.000000   149.000000        2016.0       7.000000     13.000000   \n",
       "75%    5080.000000   224.000000        2016.0      11.000000     19.000000   \n",
       "max    6766.000000   300.000000        2016.0      12.000000     23.000000   \n",
       "\n",
       "       drop_year                    timestamp  \n",
       "count     2831.0                         2831  \n",
       "mean      2016.0  -1 days +13:14:01.759095726  \n",
       "std          0.0   10 days 07:07:53.473784496  \n",
       "min       2016.0          -148 days +00:33:00  \n",
       "25%       2016.0              0 days 00:41:00  \n",
       "50%       2016.0              0 days 00:52:00  \n",
       "75%       2016.0              0 days 01:04:00  \n",
       "max       2016.0             29 days 01:15:00  "
      ]
     },
     "execution_count": 27,
     "metadata": {},
     "output_type": "execute_result"
    }
   ],
   "source": [
    "df.describe()  #shows minimum and max values - ie request month from July to Dec only\n",
    "#check outliers, ie, max trip 29 days - check"
   ]
  },
  {
   "cell_type": "code",
   "execution_count": 28,
   "id": "ee5131e1",
   "metadata": {},
   "outputs": [
    {
     "data": {
      "text/html": [
       "<div>\n",
       "<style scoped>\n",
       "    .dataframe tbody tr th:only-of-type {\n",
       "        vertical-align: middle;\n",
       "    }\n",
       "\n",
       "    .dataframe tbody tr th {\n",
       "        vertical-align: top;\n",
       "    }\n",
       "\n",
       "    .dataframe thead th {\n",
       "        text-align: right;\n",
       "    }\n",
       "</style>\n",
       "<table border=\"1\" class=\"dataframe\">\n",
       "  <thead>\n",
       "    <tr style=\"text-align: right;\">\n",
       "      <th></th>\n",
       "      <th>Pickup point</th>\n",
       "      <th>Status</th>\n",
       "      <th>drop_day</th>\n",
       "    </tr>\n",
       "  </thead>\n",
       "  <tbody>\n",
       "    <tr>\n",
       "      <th>count</th>\n",
       "      <td>6745</td>\n",
       "      <td>6745</td>\n",
       "      <td>2831</td>\n",
       "    </tr>\n",
       "    <tr>\n",
       "      <th>unique</th>\n",
       "      <td>2</td>\n",
       "      <td>3</td>\n",
       "      <td>5</td>\n",
       "    </tr>\n",
       "    <tr>\n",
       "      <th>top</th>\n",
       "      <td>City</td>\n",
       "      <td>Trip Completed</td>\n",
       "      <td>Wednesday</td>\n",
       "    </tr>\n",
       "    <tr>\n",
       "      <th>freq</th>\n",
       "      <td>3507</td>\n",
       "      <td>2831</td>\n",
       "      <td>1137</td>\n",
       "    </tr>\n",
       "  </tbody>\n",
       "</table>\n",
       "</div>"
      ],
      "text/plain": [
       "       Pickup point          Status   drop_day\n",
       "count          6745            6745       2831\n",
       "unique            2               3          5\n",
       "top            City  Trip Completed  Wednesday\n",
       "freq           3507            2831       1137"
      ]
     },
     "execution_count": 28,
     "metadata": {},
     "output_type": "execute_result"
    }
   ],
   "source": [
    "df.describe(include='O')  #shows the most common variables"
   ]
  },
  {
   "cell_type": "markdown",
   "id": "df6a1e70",
   "metadata": {},
   "source": [
    "###### what about trip status and pick up point"
   ]
  },
  {
   "cell_type": "code",
   "execution_count": 29,
   "id": "86b56927",
   "metadata": {},
   "outputs": [
    {
     "data": {
      "text/plain": [
       "Trip Completed       2831\n",
       "No Cars Available    2650\n",
       "Cancelled            1264\n",
       "Name: Status, dtype: int64"
      ]
     },
     "execution_count": 29,
     "metadata": {},
     "output_type": "execute_result"
    }
   ],
   "source": [
    "df['Status'].value_counts()  #frequency."
   ]
  },
  {
   "cell_type": "code",
   "execution_count": 30,
   "id": "e25bcc3b",
   "metadata": {},
   "outputs": [
    {
     "data": {
      "text/plain": [
       "Trip Completed       0.419718\n",
       "No Cars Available    0.392884\n",
       "Cancelled            0.187398\n",
       "Name: Status, dtype: float64"
      ]
     },
     "execution_count": 30,
     "metadata": {},
     "output_type": "execute_result"
    }
   ],
   "source": [
    "df['Status'].value_counts(normalize= True)  #gives frequency in percentages\n",
    "#more journeys were cancelled/ no car available than actual completed trips - too popular for no. drivers"
   ]
  },
  {
   "cell_type": "code",
   "execution_count": 31,
   "id": "69a2b417",
   "metadata": {},
   "outputs": [
    {
     "data": {
      "image/png": "[encoded data removed]",
      "text/plain": [
       "<Figure size 640x480 with 1 Axes>"
      ]
     },
     "metadata": {},
     "output_type": "display_data"
    }
   ],
   "source": [
    "#trip status\n",
    "df['Status'].value_counts(normalize= True).plot(kind ='bar');  #easy way to visulise data set ; gets rid of writing at start"
   ]
  },
  {
   "cell_type": "code",
   "execution_count": 32,
   "id": "efee8d2e",
   "metadata": {},
   "outputs": [
    {
     "data": {
      "text/html": [
       "<div>\n",
       "<style scoped>\n",
       "    .dataframe tbody tr th:only-of-type {\n",
       "        vertical-align: middle;\n",
       "    }\n",
       "\n",
       "    .dataframe tbody tr th {\n",
       "        vertical-align: top;\n",
       "    }\n",
       "\n",
       "    .dataframe thead th {\n",
       "        text-align: right;\n",
       "    }\n",
       "</style>\n",
       "<table border=\"1\" class=\"dataframe\">\n",
       "  <thead>\n",
       "    <tr style=\"text-align: right;\">\n",
       "      <th>Pickup point</th>\n",
       "      <th>Airport</th>\n",
       "      <th>City</th>\n",
       "    </tr>\n",
       "    <tr>\n",
       "      <th>Status</th>\n",
       "      <th></th>\n",
       "      <th></th>\n",
       "    </tr>\n",
       "  </thead>\n",
       "  <tbody>\n",
       "    <tr>\n",
       "      <th>Cancelled</th>\n",
       "      <td>198</td>\n",
       "      <td>1066</td>\n",
       "    </tr>\n",
       "    <tr>\n",
       "      <th>No Cars Available</th>\n",
       "      <td>1713</td>\n",
       "      <td>937</td>\n",
       "    </tr>\n",
       "    <tr>\n",
       "      <th>Trip Completed</th>\n",
       "      <td>1327</td>\n",
       "      <td>1504</td>\n",
       "    </tr>\n",
       "  </tbody>\n",
       "</table>\n",
       "</div>"
      ],
      "text/plain": [
       "Pickup point       Airport  City\n",
       "Status                          \n",
       "Cancelled              198  1066\n",
       "No Cars Available     1713   937\n",
       "Trip Completed        1327  1504"
      ]
     },
     "execution_count": 32,
     "metadata": {},
     "output_type": "execute_result"
    }
   ],
   "source": [
    "#Distribution of pickups for airport and city\n",
    "pd.crosstab(df['Status'], df['Pickup point'])"
   ]
  },
  {
   "cell_type": "code",
   "execution_count": 33,
   "id": "6ae7258d",
   "metadata": {},
   "outputs": [
    {
     "data": {
      "text/html": [
       "<div>\n",
       "<style scoped>\n",
       "    .dataframe tbody tr th:only-of-type {\n",
       "        vertical-align: middle;\n",
       "    }\n",
       "\n",
       "    .dataframe tbody tr th {\n",
       "        vertical-align: top;\n",
       "    }\n",
       "\n",
       "    .dataframe thead th {\n",
       "        text-align: right;\n",
       "    }\n",
       "</style>\n",
       "<table border=\"1\" class=\"dataframe\">\n",
       "  <thead>\n",
       "    <tr style=\"text-align: right;\">\n",
       "      <th>Pickup point</th>\n",
       "      <th>Airport</th>\n",
       "      <th>City</th>\n",
       "    </tr>\n",
       "    <tr>\n",
       "      <th>Status</th>\n",
       "      <th></th>\n",
       "      <th></th>\n",
       "    </tr>\n",
       "  </thead>\n",
       "  <tbody>\n",
       "    <tr>\n",
       "      <th>Cancelled</th>\n",
       "      <td>0.029355</td>\n",
       "      <td>0.158043</td>\n",
       "    </tr>\n",
       "    <tr>\n",
       "      <th>No Cars Available</th>\n",
       "      <td>0.253966</td>\n",
       "      <td>0.138918</td>\n",
       "    </tr>\n",
       "    <tr>\n",
       "      <th>Trip Completed</th>\n",
       "      <td>0.196738</td>\n",
       "      <td>0.222980</td>\n",
       "    </tr>\n",
       "  </tbody>\n",
       "</table>\n",
       "</div>"
      ],
      "text/plain": [
       "Pickup point        Airport      City\n",
       "Status                               \n",
       "Cancelled          0.029355  0.158043\n",
       "No Cars Available  0.253966  0.138918\n",
       "Trip Completed     0.196738  0.222980"
      ]
     },
     "execution_count": 33,
     "metadata": {},
     "output_type": "execute_result"
    }
   ],
   "source": [
    "pd.crosstab(df['Status'], df['Pickup point'], normalize=True)  #adding up all 6 of table above and dividing each cell by total\n",
    "#to get percentages below"
   ]
  },
  {
   "cell_type": "code",
   "execution_count": 34,
   "id": "de397ec7",
   "metadata": {},
   "outputs": [
    {
     "data": {
      "text/html": [
       "<div>\n",
       "<style scoped>\n",
       "    .dataframe tbody tr th:only-of-type {\n",
       "        vertical-align: middle;\n",
       "    }\n",
       "\n",
       "    .dataframe tbody tr th {\n",
       "        vertical-align: top;\n",
       "    }\n",
       "\n",
       "    .dataframe thead th {\n",
       "        text-align: right;\n",
       "    }\n",
       "</style>\n",
       "<table border=\"1\" class=\"dataframe\">\n",
       "  <thead>\n",
       "    <tr style=\"text-align: right;\">\n",
       "      <th>Pickup point</th>\n",
       "      <th>Airport</th>\n",
       "      <th>City</th>\n",
       "    </tr>\n",
       "    <tr>\n",
       "      <th>Status</th>\n",
       "      <th></th>\n",
       "      <th></th>\n",
       "    </tr>\n",
       "  </thead>\n",
       "  <tbody>\n",
       "    <tr>\n",
       "      <th>Cancelled</th>\n",
       "      <td>0.06</td>\n",
       "      <td>0.30</td>\n",
       "    </tr>\n",
       "    <tr>\n",
       "      <th>No Cars Available</th>\n",
       "      <td>0.53</td>\n",
       "      <td>0.27</td>\n",
       "    </tr>\n",
       "    <tr>\n",
       "      <th>Trip Completed</th>\n",
       "      <td>0.41</td>\n",
       "      <td>0.43</td>\n",
       "    </tr>\n",
       "  </tbody>\n",
       "</table>\n",
       "</div>"
      ],
      "text/plain": [
       "Pickup point       Airport  City\n",
       "Status                          \n",
       "Cancelled             0.06  0.30\n",
       "No Cars Available     0.53  0.27\n",
       "Trip Completed        0.41  0.43"
      ]
     },
     "execution_count": 34,
     "metadata": {},
     "output_type": "execute_result"
    }
   ],
   "source": [
    "#to do the percentages per column or rows then and round to 2dp\n",
    "pd.crosstab(df['Status'], df['Pickup point'], normalize='columns').round(2)\n",
    "#unavailablity of cars is bigger issue at airport than city - dig down to find out what time/ distribution is.  Slice and dice data to find out more\n",
    "#slice and dice pick up point and status"
   ]
  },
  {
   "cell_type": "markdown",
   "id": "1adb9339",
   "metadata": {},
   "source": [
    "###### which are the busy hours? - use request hours"
   ]
  },
  {
   "cell_type": "code",
   "execution_count": 35,
   "id": "623ae438",
   "metadata": {},
   "outputs": [
    {
     "data": {
      "image/png": "[encoded data removed]",
      "text/plain": [
       "<Figure size 640x480 with 1 Axes>"
      ]
     },
     "metadata": {},
     "output_type": "display_data"
    }
   ],
   "source": [
    "df.groupby('request_hour')['Request id'].count().plot(kind = 'line');\n",
    "#across month and both pick up points - need to slice and dice for specifics"
   ]
  },
  {
   "cell_type": "code",
   "execution_count": 55,
   "id": "9d08ba90",
   "metadata": {},
   "outputs": [
    {
     "ename": "SyntaxError",
     "evalue": "invalid syntax (<unknown>, line 1)",
     "output_type": "error",
     "traceback": [
      "Traceback \u001b[1;36m(most recent call last)\u001b[0m:\n",
      "  File \u001b[0;32m\"C:\\Users\\cathe\\anaconda3\\lib\\site-packages\\IPython\\core\\interactiveshell.py\"\u001b[0m, line \u001b[0;32m3457\u001b[0m, in \u001b[0;35mrun_code\u001b[0m\n    exec(code_obj, self.user_global_ns, self.user_ns)\n",
      "  File \u001b[0;32m\"C:\\Users\\cathe\\AppData\\Local\\Temp\\ipykernel_4108\\1454829191.py\"\u001b[0m, line \u001b[0;32m1\u001b[0m, in \u001b[0;35m<module>\u001b[0m\n    (df\n",
      "  File \u001b[0;32m\"C:\\Users\\cathe\\anaconda3\\lib\\site-packages\\pandas\\core\\frame.py\"\u001b[0m, line \u001b[0;32m4111\u001b[0m, in \u001b[0;35mquery\u001b[0m\n    res = self.eval(expr, **kwargs)\n",
      "  File \u001b[0;32m\"C:\\Users\\cathe\\anaconda3\\lib\\site-packages\\pandas\\core\\frame.py\"\u001b[0m, line \u001b[0;32m4240\u001b[0m, in \u001b[0;35meval\u001b[0m\n    return _eval(expr, inplace=inplace, **kwargs)\n",
      "  File \u001b[0;32m\"C:\\Users\\cathe\\anaconda3\\lib\\site-packages\\pandas\\core\\computation\\eval.py\"\u001b[0m, line \u001b[0;32m351\u001b[0m, in \u001b[0;35meval\u001b[0m\n    parsed_expr = Expr(expr, engine=engine, parser=parser, env=env)\n",
      "  File \u001b[0;32m\"C:\\Users\\cathe\\anaconda3\\lib\\site-packages\\pandas\\core\\computation\\expr.py\"\u001b[0m, line \u001b[0;32m811\u001b[0m, in \u001b[0;35m__init__\u001b[0m\n    self.terms = self.parse()\n",
      "  File \u001b[0;32m\"C:\\Users\\cathe\\anaconda3\\lib\\site-packages\\pandas\\core\\computation\\expr.py\"\u001b[0m, line \u001b[0;32m830\u001b[0m, in \u001b[0;35mparse\u001b[0m\n    return self._visitor.visit(self.expr)\n",
      "  File \u001b[0;32m\"C:\\Users\\cathe\\anaconda3\\lib\\site-packages\\pandas\\core\\computation\\expr.py\"\u001b[0m, line \u001b[0;32m411\u001b[0m, in \u001b[0;35mvisit\u001b[0m\n    raise e\n",
      "  File \u001b[0;32m\"C:\\Users\\cathe\\anaconda3\\lib\\site-packages\\pandas\\core\\computation\\expr.py\"\u001b[0m, line \u001b[0;32m407\u001b[0m, in \u001b[0;35mvisit\u001b[0m\n    node = ast.fix_missing_locations(ast.parse(clean))\n",
      "\u001b[1;36m  File \u001b[1;32m\"C:\\Users\\cathe\\anaconda3\\lib\\ast.py\"\u001b[1;36m, line \u001b[1;32m50\u001b[1;36m, in \u001b[1;35mparse\u001b[1;36m\u001b[0m\n\u001b[1;33m    return compile(source, filename, mode, flags,\u001b[0m\n",
      "\u001b[1;36m  File \u001b[1;32m\"<unknown>\"\u001b[1;36m, line \u001b[1;32m1\u001b[0m\n\u001b[1;33m    Pickup point ==\"Airport\"\u001b[0m\n\u001b[1;37m           ^\u001b[0m\n\u001b[1;31mSyntaxError\u001b[0m\u001b[1;31m:\u001b[0m invalid syntax\n"
     ]
    }
   ],
   "source": [
    "(df\n",
    " .query('Pickup point == \"Airport\"')\n",
    " .groupby('request_hour')['Request id'].count().plot(kind = 'line'))\n",
    "#should run a line graph just for pick up airport - why error?"
   ]
  },
  {
   "cell_type": "code",
   "execution_count": 53,
   "id": "adffeb3d",
   "metadata": {},
   "outputs": [
    {
     "ename": "SyntaxError",
     "evalue": "invalid syntax (<unknown>, line 1)",
     "output_type": "error",
     "traceback": [
      "Traceback \u001b[1;36m(most recent call last)\u001b[0m:\n",
      "  File \u001b[0;32m\"C:\\Users\\cathe\\anaconda3\\lib\\site-packages\\IPython\\core\\interactiveshell.py\"\u001b[0m, line \u001b[0;32m3457\u001b[0m, in \u001b[0;35mrun_code\u001b[0m\n    exec(code_obj, self.user_global_ns, self.user_ns)\n",
      "  File \u001b[0;32m\"C:\\Users\\cathe\\AppData\\Local\\Temp\\ipykernel_4108\\3774391479.py\"\u001b[0m, line \u001b[0;32m1\u001b[0m, in \u001b[0;35m<module>\u001b[0m\n    (df.query('Pickup point == \"City\"').groupby('request_hour')['Request id'].count().plot(kind = 'line'));\n",
      "  File \u001b[0;32m\"C:\\Users\\cathe\\anaconda3\\lib\\site-packages\\pandas\\core\\frame.py\"\u001b[0m, line \u001b[0;32m4111\u001b[0m, in \u001b[0;35mquery\u001b[0m\n    res = self.eval(expr, **kwargs)\n",
      "  File \u001b[0;32m\"C:\\Users\\cathe\\anaconda3\\lib\\site-packages\\pandas\\core\\frame.py\"\u001b[0m, line \u001b[0;32m4240\u001b[0m, in \u001b[0;35meval\u001b[0m\n    return _eval(expr, inplace=inplace, **kwargs)\n",
      "  File \u001b[0;32m\"C:\\Users\\cathe\\anaconda3\\lib\\site-packages\\pandas\\core\\computation\\eval.py\"\u001b[0m, line \u001b[0;32m351\u001b[0m, in \u001b[0;35meval\u001b[0m\n    parsed_expr = Expr(expr, engine=engine, parser=parser, env=env)\n",
      "  File \u001b[0;32m\"C:\\Users\\cathe\\anaconda3\\lib\\site-packages\\pandas\\core\\computation\\expr.py\"\u001b[0m, line \u001b[0;32m811\u001b[0m, in \u001b[0;35m__init__\u001b[0m\n    self.terms = self.parse()\n",
      "  File \u001b[0;32m\"C:\\Users\\cathe\\anaconda3\\lib\\site-packages\\pandas\\core\\computation\\expr.py\"\u001b[0m, line \u001b[0;32m830\u001b[0m, in \u001b[0;35mparse\u001b[0m\n    return self._visitor.visit(self.expr)\n",
      "  File \u001b[0;32m\"C:\\Users\\cathe\\anaconda3\\lib\\site-packages\\pandas\\core\\computation\\expr.py\"\u001b[0m, line \u001b[0;32m411\u001b[0m, in \u001b[0;35mvisit\u001b[0m\n    raise e\n",
      "  File \u001b[0;32m\"C:\\Users\\cathe\\anaconda3\\lib\\site-packages\\pandas\\core\\computation\\expr.py\"\u001b[0m, line \u001b[0;32m407\u001b[0m, in \u001b[0;35mvisit\u001b[0m\n    node = ast.fix_missing_locations(ast.parse(clean))\n",
      "\u001b[1;36m  File \u001b[1;32m\"C:\\Users\\cathe\\anaconda3\\lib\\ast.py\"\u001b[1;36m, line \u001b[1;32m50\u001b[1;36m, in \u001b[1;35mparse\u001b[1;36m\u001b[0m\n\u001b[1;33m    return compile(source, filename, mode, flags,\u001b[0m\n",
      "\u001b[1;36m  File \u001b[1;32m\"<unknown>\"\u001b[1;36m, line \u001b[1;32m1\u001b[0m\n\u001b[1;33m    Pickup point ==\"City\"\u001b[0m\n\u001b[1;37m           ^\u001b[0m\n\u001b[1;31mSyntaxError\u001b[0m\u001b[1;31m:\u001b[0m invalid syntax\n"
     ]
    }
   ],
   "source": [
    "(df.query('Pickup point == \"City\"').groupby('request_hour')['Request id'].count().plot(kind = 'line'));\n",
    "#run again for city but same error\n",
    "#compare the 2\n",
    "#Demand pattern is very different"
   ]
  },
  {
   "cell_type": "code",
   "execution_count": 58,
   "id": "9dfb70eb",
   "metadata": {},
   "outputs": [
    {
     "data": {
      "text/plain": [
       "City       0.52\n",
       "Airport    0.48\n",
       "Name: Pickup point, dtype: float64"
      ]
     },
     "execution_count": 58,
     "metadata": {},
     "output_type": "execute_result"
    }
   ],
   "source": [
    "df['Pickup point'].value_counts(normalize=True).round(2)\n",
    "#shows percentage of pickups very similar for both locations"
   ]
  },
  {
   "cell_type": "markdown",
   "id": "864dd98d",
   "metadata": {},
   "source": [
    "## Daywise - slice and dice"
   ]
  },
  {
   "cell_type": "code",
   "execution_count": 56,
   "id": "f7a1c66b",
   "metadata": {},
   "outputs": [],
   "source": [
    "#change day name to number to ensure in chronoglogical order - data only for monday to friday (5 days)\n",
    "df['request_day'] = df['Request timestamp'].dt.dayofweek"
   ]
  },
  {
   "cell_type": "code",
   "execution_count": 57,
   "id": "dccdf226",
   "metadata": {},
   "outputs": [
    {
     "ename": "SyntaxError",
     "evalue": "invalid syntax (<unknown>, line 1)",
     "output_type": "error",
     "traceback": [
      "Traceback \u001b[1;36m(most recent call last)\u001b[0m:\n",
      "  File \u001b[0;32m\"C:\\Users\\cathe\\anaconda3\\lib\\site-packages\\IPython\\core\\interactiveshell.py\"\u001b[0m, line \u001b[0;32m3457\u001b[0m, in \u001b[0;35mrun_code\u001b[0m\n    exec(code_obj, self.user_global_ns, self.user_ns)\n",
      "  File \u001b[0;32m\"C:\\Users\\cathe\\AppData\\Local\\Temp\\ipykernel_4108\\2528088245.py\"\u001b[0m, line \u001b[0;32m1\u001b[0m, in \u001b[0;35m<module>\u001b[0m\n    (df.query('Pickup point == \"City\"').groupby('request_day')['Request id'].count().plot(kind = 'line'));\n",
      "  File \u001b[0;32m\"C:\\Users\\cathe\\anaconda3\\lib\\site-packages\\pandas\\core\\frame.py\"\u001b[0m, line \u001b[0;32m4111\u001b[0m, in \u001b[0;35mquery\u001b[0m\n    res = self.eval(expr, **kwargs)\n",
      "  File \u001b[0;32m\"C:\\Users\\cathe\\anaconda3\\lib\\site-packages\\pandas\\core\\frame.py\"\u001b[0m, line \u001b[0;32m4240\u001b[0m, in \u001b[0;35meval\u001b[0m\n    return _eval(expr, inplace=inplace, **kwargs)\n",
      "  File \u001b[0;32m\"C:\\Users\\cathe\\anaconda3\\lib\\site-packages\\pandas\\core\\computation\\eval.py\"\u001b[0m, line \u001b[0;32m351\u001b[0m, in \u001b[0;35meval\u001b[0m\n    parsed_expr = Expr(expr, engine=engine, parser=parser, env=env)\n",
      "  File \u001b[0;32m\"C:\\Users\\cathe\\anaconda3\\lib\\site-packages\\pandas\\core\\computation\\expr.py\"\u001b[0m, line \u001b[0;32m811\u001b[0m, in \u001b[0;35m__init__\u001b[0m\n    self.terms = self.parse()\n",
      "  File \u001b[0;32m\"C:\\Users\\cathe\\anaconda3\\lib\\site-packages\\pandas\\core\\computation\\expr.py\"\u001b[0m, line \u001b[0;32m830\u001b[0m, in \u001b[0;35mparse\u001b[0m\n    return self._visitor.visit(self.expr)\n",
      "  File \u001b[0;32m\"C:\\Users\\cathe\\anaconda3\\lib\\site-packages\\pandas\\core\\computation\\expr.py\"\u001b[0m, line \u001b[0;32m411\u001b[0m, in \u001b[0;35mvisit\u001b[0m\n    raise e\n",
      "  File \u001b[0;32m\"C:\\Users\\cathe\\anaconda3\\lib\\site-packages\\pandas\\core\\computation\\expr.py\"\u001b[0m, line \u001b[0;32m407\u001b[0m, in \u001b[0;35mvisit\u001b[0m\n    node = ast.fix_missing_locations(ast.parse(clean))\n",
      "\u001b[1;36m  File \u001b[1;32m\"C:\\Users\\cathe\\anaconda3\\lib\\ast.py\"\u001b[1;36m, line \u001b[1;32m50\u001b[1;36m, in \u001b[1;35mparse\u001b[1;36m\u001b[0m\n\u001b[1;33m    return compile(source, filename, mode, flags,\u001b[0m\n",
      "\u001b[1;36m  File \u001b[1;32m\"<unknown>\"\u001b[1;36m, line \u001b[1;32m1\u001b[0m\n\u001b[1;33m    Pickup point ==\"City\"\u001b[0m\n\u001b[1;37m           ^\u001b[0m\n\u001b[1;31mSyntaxError\u001b[0m\u001b[1;31m:\u001b[0m invalid syntax\n"
     ]
    }
   ],
   "source": [
    "(df.query('Pickup point == \"City\"').groupby('request_day')['Request id'].count().plot(kind = 'line'));\n",
    "#need to try and do 2 lines to compare day and hours\n",
    "##same error"
   ]
  },
  {
   "cell_type": "code",
   "execution_count": null,
   "id": "4143b99c",
   "metadata": {},
   "outputs": [],
   "source": [
    "# plotly gives interactive chart so on charts above, after (kind = 'line', backend = 'plotly')"
   ]
  },
  {
   "cell_type": "markdown",
   "id": "7f670d41",
   "metadata": {},
   "source": [
    "## Trip status across pick up points\n",
    "#to figure out"
   ]
  },
  {
   "cell_type": "markdown",
   "id": "9e1a1fbe",
   "metadata": {},
   "source": [
    "###### Hourly pickup status across the 2 places\n",
    "#to figure out"
   ]
  },
  {
   "cell_type": "code",
   "execution_count": null,
   "id": "2dc5495f",
   "metadata": {},
   "outputs": [],
   "source": []
  }
 ],
 "metadata": {
  "kernelspec": {
   "display_name": "Python 3 (ipykernel)",
   "language": "python",
   "name": "python3"
  },
  "language_info": {
   "codemirror_mode": {
    "name": "ipython",
    "version": 3
   },
   "file_extension": ".py",
   "mimetype": "text/x-python",
   "name": "python",
   "nbconvert_exporter": "python",
   "pygments_lexer": "ipython3",
   "version": "3.9.13"
  }
 },
 "nbformat": 4,
 "nbformat_minor": 5
}
